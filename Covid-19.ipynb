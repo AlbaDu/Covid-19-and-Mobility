{
 "metadata": {
  "language_info": {
   "codemirror_mode": {
    "name": "ipython",
    "version": 3
   },
   "file_extension": ".py",
   "mimetype": "text/x-python",
   "name": "python",
   "nbconvert_exporter": "python",
   "pygments_lexer": "ipython3",
   "version": "3.7.6-final"
  },
  "orig_nbformat": 2,
  "kernelspec": {
   "name": "python37664bitbaseconda513a0352d0eb4c09a2aaf2386a53465e",
   "display_name": "Python 3.7.6 64-bit ('base': conda)"
  }
 },
 "nbformat": 4,
 "nbformat_minor": 2,
 "cells": [
  {
   "cell_type": "markdown",
   "metadata": {},
   "source": [
    "## Jupyter Notebook 2: Covid-19 cases analysis.\n",
    "\n",
    "The Covid-19 analyzed with-in this project were obtained from the European Centre for Disease Prevention and Control  at https://www.ecdc.europa.eu/en/publications-data?s=&sort_by=field_ct_publication_date&sort_order=DESC&f%5B0%5D=diseases%3A2942&f%5B1%5D=output_types%3A1382. "
   ]
  },
  {
   "cell_type": "code",
   "execution_count": 1,
   "metadata": {},
   "outputs": [],
   "source": [
    "#Import the required external libraries\n",
    "import pandas as pd\n",
    "from pandas import Grouper \n",
    "import numpy as np\n",
    "\n",
    "#Import plotting modules\n",
    "import seaborn as sns\n",
    "sns.set()\n",
    "import matplotlib\n",
    "import matplotlib.pyplot as plt\n",
    "import matplotlib.ticker\n",
    "%matplotlib inline"
   ]
  },
  {
   "cell_type": "code",
   "execution_count": 2,
   "metadata": {},
   "outputs": [],
   "source": [
    "#Import EDA functions defined in EDA.py\n",
    "import EDA"
   ]
  },
  {
   "cell_type": "code",
   "execution_count": 9,
   "metadata": {},
   "outputs": [],
   "source": [
    "#Import of datasets\n",
    "national_response = EDA.file_to_df(file_ = \"response_graphs.csv\")\n",
    "weekly_testing = EDA.file_to_df(file_ = \"weekly_testing_EU.xlsx\")"
   ]
  }
 ]
}